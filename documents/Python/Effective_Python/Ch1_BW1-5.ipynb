{
 "cells": [
  {
   "cell_type": "markdown",
   "metadata": {},
   "source": [
    "# Chapter 1. Pythonic Thinking"
   ]
  },
  {
   "cell_type": "code",
   "execution_count": 1,
   "metadata": {},
   "outputs": [
    {
     "name": "stdout",
     "output_type": "stream",
     "text": [
      "The Zen of Python, by Tim Peters\n",
      "\n",
      "Beautiful is better than ugly.\n",
      "Explicit is better than implicit.\n",
      "Simple is better than complex.\n",
      "Complex is better than complicated.\n",
      "Flat is better than nested.\n",
      "Sparse is better than dense.\n",
      "Readability counts.\n",
      "Special cases aren't special enough to break the rules.\n",
      "Although practicality beats purity.\n",
      "Errors should never pass silently.\n",
      "Unless explicitly silenced.\n",
      "In the face of ambiguity, refuse the temptation to guess.\n",
      "There should be one-- and preferably only one --obvious way to do it.\n",
      "Although that way may not be obvious at first unless you're Dutch.\n",
      "Now is better than never.\n",
      "Although never is often better than *right* now.\n",
      "If the implementation is hard to explain, it's a bad idea.\n",
      "If the implementation is easy to explain, it may be a good idea.\n",
      "Namespaces are one honking great idea -- let's do more of those!\n"
     ]
    }
   ],
   "source": [
    "import this"
   ]
  },
  {
   "cell_type": "markdown",
   "metadata": {},
   "source": [
    "## Better Way 1. Know which version of Python you're using"
   ]
  },
  {
   "cell_type": "markdown",
   "metadata": {},
   "source": [
    "* Popular python runtimes\n",
    "    - Cpython\n",
    "    - Jython\n",
    "    - IronPython\n",
    "    - PyPy"
   ]
  },
  {
   "cell_type": "code",
   "execution_count": 2,
   "metadata": {},
   "outputs": [],
   "source": [
    "# python --version"
   ]
  },
  {
   "cell_type": "code",
   "execution_count": 3,
   "metadata": {},
   "outputs": [
    {
     "name": "stdout",
     "output_type": "stream",
     "text": [
      "sys.version_info(major=3, minor=6, micro=5, releaselevel='final', serial=0)\n",
      "3.6.5 |Anaconda, Inc.| (default, Apr 26 2018, 08:42:37) \n",
      "[GCC 4.2.1 Compatible Clang 4.0.1 (tags/RELEASE_401/final)]\n"
     ]
    }
   ],
   "source": [
    "import sys\n",
    "print(sys.version_info)\n",
    "print(sys.version)"
   ]
  },
  {
   "cell_type": "markdown",
   "metadata": {},
   "source": [
    "## Better Way 2. Follow the PEP8 style guide"
   ]
  },
  {
   "cell_type": "markdown",
   "metadata": {},
   "source": [
    "* Python Enhancement Proposal #8\n",
    "    - https://www.python.org/dev/peps/pep-0008/\n",
    "        + Whitespace\n",
    "        + Naming\n",
    "            + Function / variable / attribute: lowercase_underscore\n",
    "            + Protected instance attribute: _leading_underscore\n",
    "            + Private instance attribute: __double_leading_underscore\n",
    "            + Class / exception: CapitalizedWord\n",
    "            + Module-level constant: ALL_CAPS\n",
    "            + Instance method in class: 1st parameter's name as *self*\n",
    "            + Method in class: 1st parameter's name as *cls*\n",
    "        + Expression\n",
    "            + if a is not b\n",
    "            + if (not) somelist\n",
    "            + from bar import foo\n",
    "\n",
    "* Pylint: enforces PEP8 style automatically"
   ]
  },
  {
   "cell_type": "markdown",
   "metadata": {},
   "source": [
    "## Better Way 3. Know the differences between *bytes*, *str*, and *unicode*"
   ]
  },
  {
   "cell_type": "markdown",
   "metadata": {},
   "source": [
    "* Python 3\n",
    "    - *bytes*: raw 8 bit\n",
    "    - *str*: unicode\n",
    "* Python 2\n",
    "    - *str*: raw 8 bit\n",
    "    - *unicode*: unicode\n",
    "* Unicode to binary: *encode* method\n",
    "* Binary to unicode: *decode* method"
   ]
  },
  {
   "cell_type": "code",
   "execution_count": 4,
   "metadata": {},
   "outputs": [],
   "source": [
    "def to_str(bytes_or_str):\n",
    "    if isinstance(bytes_or_str, bytes):\n",
    "        value = bytes_or_str.decode('utf-8')\n",
    "    else:\n",
    "        value = bytes_or_str\n",
    "    return value # str instace"
   ]
  },
  {
   "cell_type": "code",
   "execution_count": 5,
   "metadata": {},
   "outputs": [],
   "source": [
    "def to_bytes(bytes_or_str):\n",
    "    if isinstance(bytes_or_str, str):\n",
    "        value = bytes_or_str.encode('utf-8')\n",
    "    else:\n",
    "        value = bytes_or_str\n",
    "    return value # bytes instance"
   ]
  },
  {
   "cell_type": "markdown",
   "metadata": {},
   "source": [
    "* writing: *'w'*\n",
    "* binary mode: *'b'*\n",
    "* binary writing mode: *'wb'*"
   ]
  },
  {
   "cell_type": "code",
   "execution_count": 6,
   "metadata": {},
   "outputs": [],
   "source": [
    "import os"
   ]
  },
  {
   "cell_type": "code",
   "execution_count": 7,
   "metadata": {},
   "outputs": [
    {
     "ename": "TypeError",
     "evalue": "write() argument must be str, not bytes",
     "output_type": "error",
     "traceback": [
      "\u001b[0;31m---------------------------------------------------------------------------\u001b[0m",
      "\u001b[0;31mTypeError\u001b[0m                                 Traceback (most recent call last)",
      "\u001b[0;32m<ipython-input-7-fdc810abb6bf>\u001b[0m in \u001b[0;36m<module>\u001b[0;34m()\u001b[0m\n\u001b[1;32m      3\u001b[0m \u001b[0;31m# Thus read/write expects str, not bytes\u001b[0m\u001b[0;34m\u001b[0m\u001b[0;34m\u001b[0m\u001b[0m\n\u001b[1;32m      4\u001b[0m \u001b[0;32mwith\u001b[0m \u001b[0mopen\u001b[0m\u001b[0;34m(\u001b[0m\u001b[0;34m'/tmp/random.bin'\u001b[0m\u001b[0;34m,\u001b[0m \u001b[0;34m'w'\u001b[0m\u001b[0;34m)\u001b[0m \u001b[0;32mas\u001b[0m \u001b[0mf\u001b[0m\u001b[0;34m:\u001b[0m\u001b[0;34m\u001b[0m\u001b[0m\n\u001b[0;32m----> 5\u001b[0;31m     \u001b[0mf\u001b[0m\u001b[0;34m.\u001b[0m\u001b[0mwrite\u001b[0m\u001b[0;34m(\u001b[0m\u001b[0mos\u001b[0m\u001b[0;34m.\u001b[0m\u001b[0murandom\u001b[0m\u001b[0;34m(\u001b[0m\u001b[0;36m10\u001b[0m\u001b[0;34m)\u001b[0m\u001b[0;34m)\u001b[0m\u001b[0;34m\u001b[0m\u001b[0m\n\u001b[0m",
      "\u001b[0;31mTypeError\u001b[0m: write() argument must be str, not bytes"
     ]
    }
   ],
   "source": [
    "# Works in Python 2 but not in Python 3\n",
    "# Python 3's open has an encoding parameter with 'utf-8' as default\n",
    "# Thus read/write expects str, not bytes\n",
    "with open('/tmp/random.bin', 'w') as f:\n",
    "    f.write(os.urandom(10))"
   ]
  },
  {
   "cell_type": "code",
   "execution_count": 8,
   "metadata": {},
   "outputs": [],
   "source": [
    "# Works in both Python 2 and 3\n",
    "with open('/tmp/random.bin', 'wb') as f:\n",
    "    f.write(os.urandom(10))"
   ]
  },
  {
   "cell_type": "markdown",
   "metadata": {},
   "source": [
    "## Better Way 4. Write helper functions instead of complex expressions"
   ]
  },
  {
   "cell_type": "code",
   "execution_count": 9,
   "metadata": {},
   "outputs": [
    {
     "name": "stdout",
     "output_type": "stream",
     "text": [
      "{'red': ['5'], 'blue': ['0'], 'green': ['']}\n"
     ]
    }
   ],
   "source": [
    "from urllib.parse import parse_qs\n",
    "my_values = parse_qs('red=5&blue=0&green=',\n",
    "                     keep_blank_values=True)\n",
    "print(repr(my_values))"
   ]
  },
  {
   "cell_type": "code",
   "execution_count": 10,
   "metadata": {},
   "outputs": [
    {
     "name": "stdout",
     "output_type": "stream",
     "text": [
      "Red:      ['5']\n",
      "Green:    ['']\n",
      "Opacity:  None\n"
     ]
    }
   ],
   "source": [
    "print('Red:     ', my_values.get('red'))\n",
    "print('Green:   ', my_values.get('green'))\n",
    "print('Opacity: ', my_values.get('opacity'))"
   ]
  },
  {
   "cell_type": "code",
   "execution_count": 11,
   "metadata": {},
   "outputs": [
    {
     "name": "stdout",
     "output_type": "stream",
     "text": [
      "Red:     ['5']\n",
      "Green:   ['']\n",
      "Opacity: 0\n"
     ]
    }
   ],
   "source": [
    "# query string: 'red=5&blue=0&green='\n",
    "red = my_values.get('red', [''][0]) or 0\n",
    "green = my_values.get('green', [''][0]) or 0\n",
    "opacity = my_values.get('opacity', [''][0]) or 0\n",
    "print('Red:     %r' % red)\n",
    "print('Green:   %r' % green)\n",
    "print('Opacity: %r' % opacity)"
   ]
  },
  {
   "cell_type": "markdown",
   "metadata": {},
   "source": [
    "What if we want to get all parameters as *int*?"
   ]
  },
  {
   "cell_type": "code",
   "execution_count": 12,
   "metadata": {},
   "outputs": [],
   "source": [
    "# Hard to read\n",
    "red = int(my_values.get('red', [''])[0] or 0)"
   ]
  },
  {
   "cell_type": "code",
   "execution_count": 13,
   "metadata": {},
   "outputs": [],
   "source": [
    "# Much better but not so clear, with if/else conditional\n",
    "red = my_values.get('red', [''])\n",
    "red = int(red[0]) if red[0] else 0"
   ]
  },
  {
   "cell_type": "code",
   "execution_count": 14,
   "metadata": {},
   "outputs": [],
   "source": [
    "# Too complex with logic expanded\n",
    "green = my_values.get('green', [''])\n",
    "if green[0]:\n",
    "    green = int(green[0])\n",
    "else:\n",
    "    green = 0"
   ]
  },
  {
   "cell_type": "code",
   "execution_count": 15,
   "metadata": {},
   "outputs": [],
   "source": [
    "# If to use the logic repeatedly, better create a helper function\n",
    "def get_first_int(values, key, default=0):\n",
    "    found = values.get(key, [''])\n",
    "    if found[0]:\n",
    "        found = int(fount[0])\n",
    "    else:\n",
    "        found = default\n",
    "    return found"
   ]
  },
  {
   "cell_type": "code",
   "execution_count": 16,
   "metadata": {},
   "outputs": [],
   "source": [
    "# Clear\n",
    "green = get_first_int(my_values, 'green')"
   ]
  },
  {
   "cell_type": "markdown",
   "metadata": {},
   "source": [
    "## Better Way 5. Know how to slice sequences"
   ]
  },
  {
   "cell_type": "markdown",
   "metadata": {},
   "source": [
    "* Can slice\n",
    "    - *list*\n",
    "    - *str*\n",
    "    - *bytes*\n",
    "    - class with special methods including *__getitem__* and *__setitem__*\n",
    "* Basic grammar\n",
    "    - somelist[start:end] # start index included, end index excluded"
   ]
  },
  {
   "cell_type": "code",
   "execution_count": 17,
   "metadata": {},
   "outputs": [
    {
     "name": "stdout",
     "output_type": "stream",
     "text": [
      "First four: ['a', 'b', 'c', 'd']\n",
      "Last four: ['e', 'f', 'g', 'h']\n",
      "Middle two: ['d', 'e']\n"
     ]
    }
   ],
   "source": [
    "a = ['a', 'b', 'c', 'd', 'e', 'f', 'g', 'h']\n",
    "print('First four:', a[:4])\n",
    "print('Last four:', a[-4:])\n",
    "print('Middle two:', a[3:-3])"
   ]
  },
  {
   "cell_type": "code",
   "execution_count": 18,
   "metadata": {},
   "outputs": [],
   "source": [
    "# Can omit index 0 when slicing from the beginning of the list\n",
    "assert a[:5] == a[0:5]"
   ]
  },
  {
   "cell_type": "code",
   "execution_count": 19,
   "metadata": {},
   "outputs": [],
   "source": [
    "# Can omit the last index when slicing to the end of the list\n",
    "assert a[5:] == a[5:len(a)]"
   ]
  },
  {
   "cell_type": "code",
   "execution_count": 20,
   "metadata": {},
   "outputs": [
    {
     "name": "stdout",
     "output_type": "stream",
     "text": [
      "['a', 'b', 'c', 'd', 'e', 'f', 'g', 'h']\n",
      "['a', 'b', 'c', 'd', 'e']\n",
      "['a', 'b', 'c', 'd', 'e', 'f', 'g']\n",
      "['e', 'f', 'g', 'h']\n",
      "['f', 'g', 'h']\n",
      "['c', 'd', 'e']\n",
      "['c', 'd', 'e', 'f', 'g']\n",
      "['f', 'g']\n"
     ]
    }
   ],
   "source": [
    "print(a[:])\n",
    "print(a[:5])\n",
    "print(a[:-1])\n",
    "print(a[4:])\n",
    "print(a[-3:])\n",
    "print(a[2:5])\n",
    "print(a[2:-1])\n",
    "print(a[-3:-1])"
   ]
  },
  {
   "cell_type": "code",
   "execution_count": 21,
   "metadata": {},
   "outputs": [],
   "source": [
    "first_twenty_items = a[:20]\n",
    "last_twenty_items = a[-20:]"
   ]
  },
  {
   "cell_type": "code",
   "execution_count": 22,
   "metadata": {},
   "outputs": [
    {
     "ename": "IndexError",
     "evalue": "list index out of range",
     "output_type": "error",
     "traceback": [
      "\u001b[0;31m---------------------------------------------------------------------------\u001b[0m",
      "\u001b[0;31mIndexError\u001b[0m                                Traceback (most recent call last)",
      "\u001b[0;32m<ipython-input-22-219c6f505fc2>\u001b[0m in \u001b[0;36m<module>\u001b[0;34m()\u001b[0m\n\u001b[1;32m      1\u001b[0m \u001b[0;31m# Exception\u001b[0m\u001b[0;34m\u001b[0m\u001b[0;34m\u001b[0m\u001b[0m\n\u001b[0;32m----> 2\u001b[0;31m \u001b[0ma\u001b[0m\u001b[0;34m[\u001b[0m\u001b[0;36m20\u001b[0m\u001b[0;34m]\u001b[0m\u001b[0;34m\u001b[0m\u001b[0m\n\u001b[0m",
      "\u001b[0;31mIndexError\u001b[0m: list index out of range"
     ]
    }
   ],
   "source": [
    "# Exception\n",
    "a[20]"
   ]
  },
  {
   "cell_type": "markdown",
   "metadata": {},
   "source": [
    "Result of slicing = a new list"
   ]
  },
  {
   "cell_type": "code",
   "execution_count": null,
   "metadata": {},
   "outputs": [],
   "source": [
    "b = a[4:]\n",
    "print('Before:    ', b)\n",
    "b[1] = 99\n",
    "print('After:     ', b)\n",
    "print('No change: ', a)"
   ]
  },
  {
   "cell_type": "markdown",
   "metadata": {},
   "source": [
    "Assignment"
   ]
  },
  {
   "cell_type": "code",
   "execution_count": null,
   "metadata": {},
   "outputs": [],
   "source": [
    "print('Before ', a)\n",
    "a[2:7] = [99, 22, 14]\n",
    "print('After  ', a)"
   ]
  },
  {
   "cell_type": "markdown",
   "metadata": {},
   "source": [
    "If slice without start & end indices -> will get a copy of the original list"
   ]
  },
  {
   "cell_type": "code",
   "execution_count": null,
   "metadata": {},
   "outputs": [],
   "source": [
    "b = a[:]\n",
    "assert b == a and b is not a"
   ]
  },
  {
   "cell_type": "markdown",
   "metadata": {},
   "source": [
    "If assign to slice without start & end indices\n",
    "-> will replace the entire slice with a copy of reference"
   ]
  },
  {
   "cell_type": "code",
   "execution_count": null,
   "metadata": {},
   "outputs": [],
   "source": [
    "b = a\n",
    "print('Before', a)\n",
    "a[:] = [101, 102, 103]\n",
    "assert a is b\n",
    "print('After ', a)"
   ]
  }
 ],
 "metadata": {
  "kernelspec": {
   "display_name": "Python 3",
   "language": "python",
   "name": "python3"
  },
  "language_info": {
   "codemirror_mode": {
    "name": "ipython",
    "version": 3
   },
   "file_extension": ".py",
   "mimetype": "text/x-python",
   "name": "python",
   "nbconvert_exporter": "python",
   "pygments_lexer": "ipython3",
   "version": "3.6.5"
  }
 },
 "nbformat": 4,
 "nbformat_minor": 2
}
